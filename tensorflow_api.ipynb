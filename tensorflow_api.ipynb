{
 "cells": [
  {
   "cell_type": "code",
   "execution_count": 1,
   "metadata": {},
   "outputs": [],
   "source": [
    "import tensorflow as tf"
   ]
  },
  {
   "cell_type": "markdown",
   "metadata": {},
   "source": [
    "#### testing add collection"
   ]
  },
  {
   "cell_type": "code",
   "execution_count": 7,
   "metadata": {},
   "outputs": [
    {
     "name": "stdout",
     "output_type": "stream",
     "text": [
      "[11. 22. 33.]\n"
     ]
    }
   ],
   "source": [
    "tf.reset_default_graph()\n",
    "\n",
    "collection1 = tf.constant([1.0,2.0,3.0])\n",
    "collection2 = tf.constant([10.0,20.0,30.0])\n",
    "tf.add_to_collection('losses',collection1)\n",
    "tf.add_to_collection('losses',collection2)\n",
    "\n",
    "losses = tf.get_collection('losses')\n",
    "total_loss = tf.add_n(losses, name='total_loss')\n",
    "\n",
    "with tf.Session() as sess:\n",
    "    res = sess.run(total_loss)\n",
    "    print(res)"
   ]
  },
  {
   "cell_type": "markdown",
   "metadata": {},
   "source": [
    "#### testing zip function, xrange"
   ]
  },
  {
   "cell_type": "code",
   "execution_count": 17,
   "metadata": {},
   "outputs": [
    {
     "name": "stdout",
     "output_type": "stream",
     "text": [
      "(1, 10, 100)\n",
      "(2, 20, 200)\n",
      "(3, 30, 300)\n",
      "(4, 40, 400)\n"
     ]
    }
   ],
   "source": [
    "tuples = [(1,2,3,4),(10,20,30,40),(100,200,300,400)]\n",
    "unziped = zip(*tuples)\n",
    "for i in unziped:\n",
    "    print(i)\n",
    "    \n",
    "# zip process: put n tuples (imagine as data rows) in to representaion of colums\n",
    "# in a nutshell: zip => from row representation get column representation\n",
    "# upzip: from column representation get row representation"
   ]
  },
  {
   "cell_type": "code",
   "execution_count": 19,
   "metadata": {},
   "outputs": [],
   "source": [
    "# ok, xrange is simply range"
   ]
  }
 ],
 "metadata": {
  "kernelspec": {
   "display_name": "tensorflow",
   "language": "python",
   "name": "tensorflow"
  },
  "language_info": {
   "codemirror_mode": {
    "name": "ipython",
    "version": 3
   },
   "file_extension": ".py",
   "mimetype": "text/x-python",
   "name": "python",
   "nbconvert_exporter": "python",
   "pygments_lexer": "ipython3",
   "version": "3.6.6"
  }
 },
 "nbformat": 4,
 "nbformat_minor": 2
}
